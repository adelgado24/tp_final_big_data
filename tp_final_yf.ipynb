{
 "cells": [
  {
   "cell_type": "code",
   "execution_count": 26,
   "metadata": {
    "collapsed": true
   },
   "outputs": [],
   "source": [
    "import pandas as pd\n",
    "import yfinance as yf\n",
    "import matplotlib.pyplot as plt\n",
    "from datetime import datetime\n",
    "import os"
   ]
  },
  {
   "cell_type": "code",
   "execution_count": 2,
   "outputs": [],
   "source": [
    "def empresa_a_df(dict_empresas, path):\n",
    "    \"\"\"Toma un diccionario de empresas y lo guarda en .csv\"\"\"\n",
    "    for key, value in dict_empresas.items():\n",
    "        ticker = yf.Ticker(value)\n",
    "        history = ticker.history = ticker.history(start = '2022-01-01')\n",
    "        df = pd.DataFrame(history)\n",
    "        df[\"ticker\"] = value\n",
    "        df.to_csv(f\"{path}{key}.csv\")\n",
    "    print(\"ok\")"
   ],
   "metadata": {
    "collapsed": false,
    "pycharm": {
     "name": "#%%\n"
    }
   }
  },
  {
   "cell_type": "code",
   "execution_count": 21,
   "outputs": [],
   "source": [
    "empresas = {'TSLA': 'Tesla',\n",
    " 'NU': 'Nu Holdings Ltd',\n",
    " 'MARA': 'Marathon Digital Holdings',\n",
    " 'CPNG': 'Coupang',\n",
    " 'CNHI': 'CNH Industrial NV',\n",
    " 'PLTR': 'Palantir Technologies Inc',\n",
    " 'AMD': 'Advanced Micro Devices',\n",
    " 'AMZN': 'Amazoncom',\n",
    " 'SOFI': 'SoFi Technologies',\n",
    " 'LCID': 'Lucid Group',\n",
    " 'WBD': 'Warner Bros Discovery',\n",
    " 'BAC': 'Bank of America Corporation',\n",
    " 'AAPL': 'Apple Inc',\n",
    " 'DNA': 'Ginkgo Bioworks Holdings',\n",
    " 'JBLU': 'JetBlue Airways Corporation',\n",
    " 'META': 'Meta Platforms',\n",
    " 'F': 'Ford Motor Company',\n",
    " 'INTC': 'Intel Corporation',\n",
    " 'NIO': 'NIO Inc',\n",
    " 'AUR': 'Aurora Innovation',\n",
    " 'CCL': 'Carnival Corporation & plc',\n",
    " 'T': 'AT&T Inc',\n",
    " 'NVDA': 'NVIDIA Corporation',\n",
    " 'GOOGL': 'Alphabet Inc',\n",
    " 'PAGS': 'PagSeguro Digital Ltd',\n",
    " 'AI': 'C3ai',\n",
    " 'FTI': 'TechnipFMC plc',\n",
    " 'RIOT': 'Riot Platforms',\n",
    " 'CVNA': 'Carvana Co',\n",
    " 'GOOG': 'Alphabet Inc',\n",
    " 'ABCL': 'AbCellera Biologics Inc',\n",
    " 'SWN': 'Southwestern Energy Company',\n",
    " 'SNAP': 'Snap Inc',\n",
    " 'PYPL': 'PayPal Holdings',\n",
    " 'COIN': 'Coinbase Global',\n",
    " 'PCG': 'PG&E Corporation',\n",
    " 'XP': 'XP Inc',\n",
    " 'KO': 'The Coca-Cola Company',\n",
    " 'AAL': 'American Airlines Group Inc',\n",
    " 'STAG': 'STAG Industrial',\n",
    " 'MRVL': 'Marvell Technology',\n",
    " 'FRSH': 'Freshworks Inc',\n",
    " 'RIVN': 'Rivian Automotive',\n",
    " 'ROIV': 'Roivant Sciences Ltd',\n",
    " 'SIRI': 'Sirius XM Holdings Inc',\n",
    " 'PFE': 'Pfizer Inc',\n",
    " 'BBD': 'Banco Bradesco SA',\n",
    " 'PBR': 'Petróleo Brasileiro SA - Petrobras',\n",
    " 'UBER': 'Uber Technologies',\n",
    " 'MSFT': 'Microsoft Corporation',\n",
    " 'MQ': 'Marqeta',\n",
    " 'PLUG': 'Plug Power Inc',\n",
    " 'DEI': 'Douglas Emmett',\n",
    " 'SCHW': 'The Charles Schwab Corporation',\n",
    " 'OXY': 'Occidental Petroleum Corporation',\n",
    " 'VALE': 'Vale SA',\n",
    " 'USB': 'US Bancorp',\n",
    " 'PINS': 'Pinterest',\n",
    " 'GOLD': 'Barrick Gold Corporation',\n",
    " 'ORCL': 'Oracle Corporation',\n",
    " 'DAL': 'Delta Air Lines',\n",
    " 'GRAB': 'Grab Holdings Limited',\n",
    " 'CMCSA': 'Comcast Corporation',\n",
    " 'RCM': 'R1 RCM Inc',\n",
    " 'VZ': 'Verizon Communications Inc',\n",
    " 'WFC': 'Wells Fargo & Company',\n",
    " 'SBUX': 'Starbucks Corporation',\n",
    " 'FRO': 'Frontline plc',\n",
    " 'DELL': 'Dell Technologies Inc',\n",
    " 'XOM': 'Exxon Mobil Corporation',\n",
    " 'KEY': 'KeyCorp',\n",
    " 'SQ': 'Block',\n",
    " 'CXM': 'Sprinklr',\n",
    " 'ITUB': 'Itaú Unibanco Holding SA',\n",
    " 'CSCO': 'Cisco Systems',\n",
    " 'MRK': 'Merck & Co',\n",
    " 'PTON': 'Peloton Interactive',\n",
    " 'UPST': 'Upstart Holdings',\n",
    " 'WBA': 'Walgreens Boots Alliance',\n",
    " 'CHPT': 'ChargePoint Holdings',\n",
    " 'FTAI': 'FTAI Aviation Ltd',\n",
    " 'GH': 'Guardant Health',\n",
    " 'CVX': 'Chevron Corporation',\n",
    " 'RXO': 'RXO',\n",
    " 'BABA': 'Alibaba Group Holding Limited',\n",
    " 'VKTX': 'Viking Therapeutics',\n",
    " 'FTNT': 'Fortinet',\n",
    " 'HPQ': 'HP Inc',\n",
    " 'IRDM': 'Iridium Communications Inc',\n",
    " 'KMI': 'Kinder Morgan',\n",
    " 'AMC': 'AMC Entertainment Holdings',\n",
    " 'NOK': 'Nokia Oyj',\n",
    " 'KMX': 'CarMax',\n",
    " 'NKE': 'NIKE',\n",
    " 'RIG': 'Transocean Ltd',\n",
    " 'NCLH': 'Norwegian Cruise Line Holdings Ltd',\n",
    " 'HAL': 'Halliburton Company',\n",
    " 'DISH': 'DISH Network Corporation',\n",
    " 'AVTR': 'Avantor',\n",
    " 'TFC': 'Truist Financial Corporation'}"
   ],
   "metadata": {
    "collapsed": false,
    "pycharm": {
     "name": "#%%\n"
    }
   }
  },
  {
   "cell_type": "code",
   "execution_count": 52,
   "outputs": [
    {
     "name": "stdout",
     "output_type": "stream",
     "text": [
      "[*********************100%***********************]  1 of 1 completed\n",
      "[*********************100%***********************]  1 of 1 completed\n",
      "[*********************100%***********************]  1 of 1 completed\n",
      "[*********************100%***********************]  1 of 1 completed\n",
      "[*********************100%***********************]  1 of 1 completed\n",
      "[*********************100%***********************]  1 of 1 completed\n",
      "[*********************100%***********************]  1 of 1 completed\n",
      "[*********************100%***********************]  1 of 1 completed\n",
      "[*********************100%***********************]  1 of 1 completed\n",
      "[*********************100%***********************]  1 of 1 completed\n",
      "[*********************100%***********************]  1 of 1 completed\n",
      "[*********************100%***********************]  1 of 1 completed\n",
      "[*********************100%***********************]  1 of 1 completed\n",
      "[*********************100%***********************]  1 of 1 completed\n",
      "[*********************100%***********************]  1 of 1 completed\n",
      "[*********************100%***********************]  1 of 1 completed\n",
      "[*********************100%***********************]  1 of 1 completed\n",
      "[*********************100%***********************]  1 of 1 completed\n",
      "[*********************100%***********************]  1 of 1 completed\n",
      "[*********************100%***********************]  1 of 1 completed\n",
      "[*********************100%***********************]  1 of 1 completed\n",
      "[*********************100%***********************]  1 of 1 completed\n",
      "[*********************100%***********************]  1 of 1 completed\n",
      "[*********************100%***********************]  1 of 1 completed\n",
      "[*********************100%***********************]  1 of 1 completed\n",
      "[*********************100%***********************]  1 of 1 completed\n",
      "[*********************100%***********************]  1 of 1 completed\n",
      "[*********************100%***********************]  1 of 1 completed\n",
      "[*********************100%***********************]  1 of 1 completed\n",
      "[*********************100%***********************]  1 of 1 completed\n",
      "[*********************100%***********************]  1 of 1 completed\n",
      "[*********************100%***********************]  1 of 1 completed\n",
      "[*********************100%***********************]  1 of 1 completed\n",
      "[*********************100%***********************]  1 of 1 completed\n",
      "[*********************100%***********************]  1 of 1 completed\n",
      "[*********************100%***********************]  1 of 1 completed\n",
      "[*********************100%***********************]  1 of 1 completed\n",
      "[*********************100%***********************]  1 of 1 completed\n",
      "[*********************100%***********************]  1 of 1 completed\n",
      "[*********************100%***********************]  1 of 1 completed\n",
      "[*********************100%***********************]  1 of 1 completed\n",
      "[*********************100%***********************]  1 of 1 completed\n",
      "[*********************100%***********************]  1 of 1 completed\n",
      "[*********************100%***********************]  1 of 1 completed\n",
      "[*********************100%***********************]  1 of 1 completed\n",
      "[*********************100%***********************]  1 of 1 completed\n",
      "[*********************100%***********************]  1 of 1 completed\n",
      "[*********************100%***********************]  1 of 1 completed\n",
      "[*********************100%***********************]  1 of 1 completed\n",
      "[*********************100%***********************]  1 of 1 completed\n",
      "[*********************100%***********************]  1 of 1 completed\n",
      "[*********************100%***********************]  1 of 1 completed\n",
      "[*********************100%***********************]  1 of 1 completed\n",
      "[*********************100%***********************]  1 of 1 completed\n",
      "[*********************100%***********************]  1 of 1 completed\n",
      "[*********************100%***********************]  1 of 1 completed\n",
      "[*********************100%***********************]  1 of 1 completed\n",
      "[*********************100%***********************]  1 of 1 completed\n",
      "[*********************100%***********************]  1 of 1 completed\n",
      "[*********************100%***********************]  1 of 1 completed\n",
      "[*********************100%***********************]  1 of 1 completed\n",
      "[*********************100%***********************]  1 of 1 completed\n",
      "[*********************100%***********************]  1 of 1 completed\n",
      "[*********************100%***********************]  1 of 1 completed\n",
      "[*********************100%***********************]  1 of 1 completed\n",
      "[*********************100%***********************]  1 of 1 completed\n",
      "[*********************100%***********************]  1 of 1 completed\n",
      "[*********************100%***********************]  1 of 1 completed\n",
      "[*********************100%***********************]  1 of 1 completed\n",
      "[*********************100%***********************]  1 of 1 completed\n",
      "[*********************100%***********************]  1 of 1 completed\n",
      "[*********************100%***********************]  1 of 1 completed\n",
      "[*********************100%***********************]  1 of 1 completed\n",
      "[*********************100%***********************]  1 of 1 completed\n",
      "[*********************100%***********************]  1 of 1 completed\n",
      "[*********************100%***********************]  1 of 1 completed\n",
      "[*********************100%***********************]  1 of 1 completed\n",
      "[*********************100%***********************]  1 of 1 completed\n",
      "[*********************100%***********************]  1 of 1 completed\n",
      "[*********************100%***********************]  1 of 1 completed\n",
      "[*********************100%***********************]  1 of 1 completed\n",
      "[*********************100%***********************]  1 of 1 completed\n",
      "[*********************100%***********************]  1 of 1 completed\n",
      "[*********************100%***********************]  1 of 1 completed\n",
      "[*********************100%***********************]  1 of 1 completed\n",
      "[*********************100%***********************]  1 of 1 completed\n",
      "[*********************100%***********************]  1 of 1 completed\n",
      "[*********************100%***********************]  1 of 1 completed\n",
      "[*********************100%***********************]  1 of 1 completed\n",
      "[*********************100%***********************]  1 of 1 completed\n",
      "[*********************100%***********************]  1 of 1 completed\n",
      "[*********************100%***********************]  1 of 1 completed\n",
      "[*********************100%***********************]  1 of 1 completed\n",
      "[*********************100%***********************]  1 of 1 completed\n",
      "[*********************100%***********************]  1 of 1 completed\n",
      "[*********************100%***********************]  1 of 1 completed\n",
      "[*********************100%***********************]  1 of 1 completed\n",
      "[*********************100%***********************]  1 of 1 completed\n",
      "[*********************100%***********************]  1 of 1 completed\n",
      "[*********************100%***********************]  1 of 1 completed\n"
     ]
    }
   ],
   "source": [
    "dataframes = {}\n",
    "\n",
    "start_date = '2018-01-01'\n",
    "end_date = datetime.today().strftime(\"%Y-%m-%d\")\n",
    "\n",
    "for ticker, company_name in empresas.items():\n",
    "    # Download the data for the ticker from Yahoo Finance\n",
    "    data = yf.download(ticker, start=start_date, end=end_date)\n",
    "\n",
    "    #Industria de la empresa\n",
    "    ticker_empresa = yf.Ticker(ticker)\n",
    "    industry = ticker_empresa.info['industry']\n",
    "\n",
    "    #Market cap\n",
    "    market_cap = ticker_empresa.info['marketCap']\n",
    "\n",
    "\n",
    "    df = pd.DataFrame(data.reset_index())\n",
    "\n",
    "    df[\"empresa\"] = company_name\n",
    "    df[\"industria\"] = industry\n",
    "    df[\"market_cap\"] = market_cap\n",
    "    df[\"ticker\"] = ticker\n",
    "\n",
    "    df.to_csv(f\"datasets_yahoofinance/{ticker}.csv\", index = False)\n",
    "\n",
    "    # Add the downloaded data to the dataframes dictionary\n",
    "    dataframes[company_name] = data"
   ],
   "metadata": {
    "collapsed": false,
    "pycharm": {
     "name": "#%%\n"
    }
   }
  },
  {
   "cell_type": "code",
   "execution_count": 53,
   "outputs": [
    {
     "data": {
      "text/plain": "         Date       Open       High        Low      Close  Adj Close   \n0  2018-01-02  42.540001  43.075001  42.314999  43.064999  40.831589  \\\n1  2018-01-03  43.132500  43.637501  42.990002  43.057499  40.824478   \n2  2018-01-04  43.134998  43.367500  43.020000  43.257500  41.014111   \n3  2018-01-05  43.360001  43.842499  43.262501  43.750000  41.481060   \n4  2018-01-08  43.587502  43.902500  43.482498  43.587502  41.326992   \n\n      Volume    empresa             industria     market_cap ticker  \n0  102223600  Apple Inc  Consumer Electronics  3050896097280   AAPL  \n1  118071600  Apple Inc  Consumer Electronics  3050896097280   AAPL  \n2   89738400  Apple Inc  Consumer Electronics  3050896097280   AAPL  \n3   94640000  Apple Inc  Consumer Electronics  3050896097280   AAPL  \n4   82271200  Apple Inc  Consumer Electronics  3050896097280   AAPL  ",
      "text/html": "<div>\n<style scoped>\n    .dataframe tbody tr th:only-of-type {\n        vertical-align: middle;\n    }\n\n    .dataframe tbody tr th {\n        vertical-align: top;\n    }\n\n    .dataframe thead th {\n        text-align: right;\n    }\n</style>\n<table border=\"1\" class=\"dataframe\">\n  <thead>\n    <tr style=\"text-align: right;\">\n      <th></th>\n      <th>Date</th>\n      <th>Open</th>\n      <th>High</th>\n      <th>Low</th>\n      <th>Close</th>\n      <th>Adj Close</th>\n      <th>Volume</th>\n      <th>empresa</th>\n      <th>industria</th>\n      <th>market_cap</th>\n      <th>ticker</th>\n    </tr>\n  </thead>\n  <tbody>\n    <tr>\n      <th>0</th>\n      <td>2018-01-02</td>\n      <td>42.540001</td>\n      <td>43.075001</td>\n      <td>42.314999</td>\n      <td>43.064999</td>\n      <td>40.831589</td>\n      <td>102223600</td>\n      <td>Apple Inc</td>\n      <td>Consumer Electronics</td>\n      <td>3050896097280</td>\n      <td>AAPL</td>\n    </tr>\n    <tr>\n      <th>1</th>\n      <td>2018-01-03</td>\n      <td>43.132500</td>\n      <td>43.637501</td>\n      <td>42.990002</td>\n      <td>43.057499</td>\n      <td>40.824478</td>\n      <td>118071600</td>\n      <td>Apple Inc</td>\n      <td>Consumer Electronics</td>\n      <td>3050896097280</td>\n      <td>AAPL</td>\n    </tr>\n    <tr>\n      <th>2</th>\n      <td>2018-01-04</td>\n      <td>43.134998</td>\n      <td>43.367500</td>\n      <td>43.020000</td>\n      <td>43.257500</td>\n      <td>41.014111</td>\n      <td>89738400</td>\n      <td>Apple Inc</td>\n      <td>Consumer Electronics</td>\n      <td>3050896097280</td>\n      <td>AAPL</td>\n    </tr>\n    <tr>\n      <th>3</th>\n      <td>2018-01-05</td>\n      <td>43.360001</td>\n      <td>43.842499</td>\n      <td>43.262501</td>\n      <td>43.750000</td>\n      <td>41.481060</td>\n      <td>94640000</td>\n      <td>Apple Inc</td>\n      <td>Consumer Electronics</td>\n      <td>3050896097280</td>\n      <td>AAPL</td>\n    </tr>\n    <tr>\n      <th>4</th>\n      <td>2018-01-08</td>\n      <td>43.587502</td>\n      <td>43.902500</td>\n      <td>43.482498</td>\n      <td>43.587502</td>\n      <td>41.326992</td>\n      <td>82271200</td>\n      <td>Apple Inc</td>\n      <td>Consumer Electronics</td>\n      <td>3050896097280</td>\n      <td>AAPL</td>\n    </tr>\n  </tbody>\n</table>\n</div>"
     },
     "execution_count": 53,
     "metadata": {},
     "output_type": "execute_result"
    }
   ],
   "source": [
    "df_empresa = pd.read_csv(\"datasets_yahoofinance/AAPL.csv\")\n",
    "df_empresa.head()"
   ],
   "metadata": {
    "collapsed": false,
    "pycharm": {
     "name": "#%%\n"
    }
   }
  },
  {
   "cell_type": "code",
   "execution_count": 54,
   "outputs": [],
   "source": [
    "file_path = \"datasets_yahoofinance/\"\n",
    "file_list = os.listdir(file_path)\n",
    "\n",
    "lista_empresas = []\n",
    "\n",
    "for filename in file_list:\n",
    "    if filename.endswith('.csv'):\n",
    "        file_path_full = os.path.join(file_path, filename)\n",
    "        df = pd.read_csv(file_path_full)\n",
    "        lista_empresas.append(df)\n"
   ],
   "metadata": {
    "collapsed": false,
    "pycharm": {
     "name": "#%%\n"
    }
   }
  },
  {
   "cell_type": "code",
   "execution_count": 55,
   "outputs": [
    {
     "data": {
      "text/plain": "         Date       Open       High        Low      Close  Adj Close   Volume   \n0  2018-01-02  52.330002  53.099998  51.900002  52.990002  51.647568  4084700  \\\n1  2018-01-03  52.860001  52.860001  52.060001  52.340000  51.014023  5074900   \n2  2018-01-04  52.480000  54.400002  52.270000  52.669998  51.335663  3557100   \n3  2018-01-05  52.779999  52.840000  52.430000  52.650002  51.316174  2967800   \n4  2018-01-08  52.599998  52.639999  51.930000  52.130001  50.809345  3515800   \n\n                       empresa industria   market_cap ticker  \n0  American Airlines Group Inc  Airlines  11712362496    AAL  \n1  American Airlines Group Inc  Airlines  11712362496    AAL  \n2  American Airlines Group Inc  Airlines  11712362496    AAL  \n3  American Airlines Group Inc  Airlines  11712362496    AAL  \n4  American Airlines Group Inc  Airlines  11712362496    AAL  ",
      "text/html": "<div>\n<style scoped>\n    .dataframe tbody tr th:only-of-type {\n        vertical-align: middle;\n    }\n\n    .dataframe tbody tr th {\n        vertical-align: top;\n    }\n\n    .dataframe thead th {\n        text-align: right;\n    }\n</style>\n<table border=\"1\" class=\"dataframe\">\n  <thead>\n    <tr style=\"text-align: right;\">\n      <th></th>\n      <th>Date</th>\n      <th>Open</th>\n      <th>High</th>\n      <th>Low</th>\n      <th>Close</th>\n      <th>Adj Close</th>\n      <th>Volume</th>\n      <th>empresa</th>\n      <th>industria</th>\n      <th>market_cap</th>\n      <th>ticker</th>\n    </tr>\n  </thead>\n  <tbody>\n    <tr>\n      <th>0</th>\n      <td>2018-01-02</td>\n      <td>52.330002</td>\n      <td>53.099998</td>\n      <td>51.900002</td>\n      <td>52.990002</td>\n      <td>51.647568</td>\n      <td>4084700</td>\n      <td>American Airlines Group Inc</td>\n      <td>Airlines</td>\n      <td>11712362496</td>\n      <td>AAL</td>\n    </tr>\n    <tr>\n      <th>1</th>\n      <td>2018-01-03</td>\n      <td>52.860001</td>\n      <td>52.860001</td>\n      <td>52.060001</td>\n      <td>52.340000</td>\n      <td>51.014023</td>\n      <td>5074900</td>\n      <td>American Airlines Group Inc</td>\n      <td>Airlines</td>\n      <td>11712362496</td>\n      <td>AAL</td>\n    </tr>\n    <tr>\n      <th>2</th>\n      <td>2018-01-04</td>\n      <td>52.480000</td>\n      <td>54.400002</td>\n      <td>52.270000</td>\n      <td>52.669998</td>\n      <td>51.335663</td>\n      <td>3557100</td>\n      <td>American Airlines Group Inc</td>\n      <td>Airlines</td>\n      <td>11712362496</td>\n      <td>AAL</td>\n    </tr>\n    <tr>\n      <th>3</th>\n      <td>2018-01-05</td>\n      <td>52.779999</td>\n      <td>52.840000</td>\n      <td>52.430000</td>\n      <td>52.650002</td>\n      <td>51.316174</td>\n      <td>2967800</td>\n      <td>American Airlines Group Inc</td>\n      <td>Airlines</td>\n      <td>11712362496</td>\n      <td>AAL</td>\n    </tr>\n    <tr>\n      <th>4</th>\n      <td>2018-01-08</td>\n      <td>52.599998</td>\n      <td>52.639999</td>\n      <td>51.930000</td>\n      <td>52.130001</td>\n      <td>50.809345</td>\n      <td>3515800</td>\n      <td>American Airlines Group Inc</td>\n      <td>Airlines</td>\n      <td>11712362496</td>\n      <td>AAL</td>\n    </tr>\n  </tbody>\n</table>\n</div>"
     },
     "execution_count": 55,
     "metadata": {},
     "output_type": "execute_result"
    }
   ],
   "source": [
    "empresas_grandes = pd.concat(lista_empresas)\n",
    "empresas_grandes.head()"
   ],
   "metadata": {
    "collapsed": false,
    "pycharm": {
     "name": "#%%\n"
    }
   }
  },
  {
   "cell_type": "code",
   "execution_count": 56,
   "outputs": [],
   "source": [
    "empresas_grandes.to_csv(\"datasets_yahoofinance/concatenado/empresas_grandes.csv\", index = False)"
   ],
   "metadata": {
    "collapsed": false,
    "pycharm": {
     "name": "#%%\n"
    }
   }
  },
  {
   "cell_type": "code",
   "execution_count": null,
   "outputs": [],
   "source": [],
   "metadata": {
    "collapsed": false,
    "pycharm": {
     "name": "#%%\n"
    }
   }
  }
 ],
 "metadata": {
  "kernelspec": {
   "display_name": "Python 3",
   "language": "python",
   "name": "python3"
  },
  "language_info": {
   "codemirror_mode": {
    "name": "ipython",
    "version": 2
   },
   "file_extension": ".py",
   "mimetype": "text/x-python",
   "name": "python",
   "nbconvert_exporter": "python",
   "pygments_lexer": "ipython2",
   "version": "2.7.6"
  }
 },
 "nbformat": 4,
 "nbformat_minor": 0
}