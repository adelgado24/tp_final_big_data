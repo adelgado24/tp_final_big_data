{
 "cells": [
  {
   "cell_type": "code",
   "execution_count": 1,
   "metadata": {
    "collapsed": true
   },
   "outputs": [],
   "source": [
    "import pandas as pd\n",
    "import sqlite3"
   ]
  },
  {
   "cell_type": "code",
   "execution_count": 25,
   "outputs": [
    {
     "data": {
      "text/plain": "                                         id  created_on operation   \n0  422c5a4888286cf5966e548135c0c524da40696c  2014-11-22      sell  \\\n1  79ad5a6361e58cbb076e2c00f3169a606b06240a  2014-12-02      sell   \n\n  property_type       place_name      place_with_parent_names country_name   \n0     apartment  Capital Federal  |Argentina|Capital Federal|    Argentina  \\\n1     apartment  Capital Federal  |Argentina|Capital Federal|    Argentina   \n\n        state_name  geonames_id                      lat_lon  ...   \n0  Capital Federal    3433955.0  -34.622636073,-58.391393158  ...  \\\n1  Capital Federal    3433955.0        -34.601281,-58.379588  ...   \n\n   price_usd_per_m2  price_per_m2  floor rooms  expenses   \n0               NaN  21835.294118    NaN   1.0       NaN  \\\n1       1595.238095   1970.588235    NaN   2.0     570.0   \n\n                                       properati_url   \n0  http://www.properati.com.ar/jtaf_venta_departa...  \\\n1  http://www.properati.com.ar/jx0u_venta_departa...   \n\n                                         description   \n0  Corredor Responsable: Gustavo Guastello - C.U....  \\\n1  Departamento APTO PROFESIONAL de dos ambientes...   \n\n                                               title   \n0  MONOAMBIENTE EN 9° PISO \"B\" FTE. ENTREGA ESIMA...  \\\n1                                 Departamento venta   \n\n                                     image_thumbnail       Fecha  \n0  https://thumbs4.properati.com/1/4GtRbgOAz3Mvf7...  2015-01-01  \n1  https://thumbs4.properati.com/9/S2GZ9iMdngVb7Z...  2015-01-01  \n\n[2 rows x 28 columns]",
      "text/html": "<div>\n<style scoped>\n    .dataframe tbody tr th:only-of-type {\n        vertical-align: middle;\n    }\n\n    .dataframe tbody tr th {\n        vertical-align: top;\n    }\n\n    .dataframe thead th {\n        text-align: right;\n    }\n</style>\n<table border=\"1\" class=\"dataframe\">\n  <thead>\n    <tr style=\"text-align: right;\">\n      <th></th>\n      <th>id</th>\n      <th>created_on</th>\n      <th>operation</th>\n      <th>property_type</th>\n      <th>place_name</th>\n      <th>place_with_parent_names</th>\n      <th>country_name</th>\n      <th>state_name</th>\n      <th>geonames_id</th>\n      <th>lat_lon</th>\n      <th>...</th>\n      <th>price_usd_per_m2</th>\n      <th>price_per_m2</th>\n      <th>floor</th>\n      <th>rooms</th>\n      <th>expenses</th>\n      <th>properati_url</th>\n      <th>description</th>\n      <th>title</th>\n      <th>image_thumbnail</th>\n      <th>Fecha</th>\n    </tr>\n  </thead>\n  <tbody>\n    <tr>\n      <th>0</th>\n      <td>422c5a4888286cf5966e548135c0c524da40696c</td>\n      <td>2014-11-22</td>\n      <td>sell</td>\n      <td>apartment</td>\n      <td>Capital Federal</td>\n      <td>|Argentina|Capital Federal|</td>\n      <td>Argentina</td>\n      <td>Capital Federal</td>\n      <td>3433955.0</td>\n      <td>-34.622636073,-58.391393158</td>\n      <td>...</td>\n      <td>NaN</td>\n      <td>21835.294118</td>\n      <td>NaN</td>\n      <td>1.0</td>\n      <td>NaN</td>\n      <td>http://www.properati.com.ar/jtaf_venta_departa...</td>\n      <td>Corredor Responsable: Gustavo Guastello - C.U....</td>\n      <td>MONOAMBIENTE EN 9° PISO \"B\" FTE. ENTREGA ESIMA...</td>\n      <td>https://thumbs4.properati.com/1/4GtRbgOAz3Mvf7...</td>\n      <td>2015-01-01</td>\n    </tr>\n    <tr>\n      <th>1</th>\n      <td>79ad5a6361e58cbb076e2c00f3169a606b06240a</td>\n      <td>2014-12-02</td>\n      <td>sell</td>\n      <td>apartment</td>\n      <td>Capital Federal</td>\n      <td>|Argentina|Capital Federal|</td>\n      <td>Argentina</td>\n      <td>Capital Federal</td>\n      <td>3433955.0</td>\n      <td>-34.601281,-58.379588</td>\n      <td>...</td>\n      <td>1595.238095</td>\n      <td>1970.588235</td>\n      <td>NaN</td>\n      <td>2.0</td>\n      <td>570.0</td>\n      <td>http://www.properati.com.ar/jx0u_venta_departa...</td>\n      <td>Departamento APTO PROFESIONAL de dos ambientes...</td>\n      <td>Departamento venta</td>\n      <td>https://thumbs4.properati.com/9/S2GZ9iMdngVb7Z...</td>\n      <td>2015-01-01</td>\n    </tr>\n  </tbody>\n</table>\n<p>2 rows × 28 columns</p>\n</div>"
     },
     "execution_count": 25,
     "metadata": {},
     "output_type": "execute_result"
    }
   ],
   "source": [
    "datos_properati = pd.read_csv(\"datasets_inmuebles/df_compra_caba.csv\")\n",
    "datos_properati.head(2)"
   ],
   "metadata": {
    "collapsed": false,
    "pycharm": {
     "name": "#%%\n"
    }
   }
  },
  {
   "cell_type": "code",
   "execution_count": 26,
   "outputs": [
    {
     "data": {
      "text/plain": "     Fecha  Precio\n0  2015-01    2214\n1  2015-02    2258",
      "text/html": "<div>\n<style scoped>\n    .dataframe tbody tr th:only-of-type {\n        vertical-align: middle;\n    }\n\n    .dataframe tbody tr th {\n        vertical-align: top;\n    }\n\n    .dataframe thead th {\n        text-align: right;\n    }\n</style>\n<table border=\"1\" class=\"dataframe\">\n  <thead>\n    <tr style=\"text-align: right;\">\n      <th></th>\n      <th>Fecha</th>\n      <th>Precio</th>\n    </tr>\n  </thead>\n  <tbody>\n    <tr>\n      <th>0</th>\n      <td>2015-01</td>\n      <td>2214</td>\n    </tr>\n    <tr>\n      <th>1</th>\n      <td>2015-02</td>\n      <td>2258</td>\n    </tr>\n  </tbody>\n</table>\n</div>"
     },
     "execution_count": 26,
     "metadata": {},
     "output_type": "execute_result"
    }
   ],
   "source": [
    "concat_properati_ml = pd.read_csv(\"datasets_inmuebles/concat_properati_ml.csv\")\n",
    "concat_properati_ml.head(2)"
   ],
   "metadata": {
    "collapsed": false,
    "pycharm": {
     "name": "#%%\n"
    }
   }
  },
  {
   "cell_type": "code",
   "execution_count": 45,
   "outputs": [
    {
     "data": {
      "text/plain": "         Date       Open       High        Low      Close  Adj Close   Volume   \n0  2018-01-02  52.330002  53.099998  51.900002  52.990002  51.647568  4084700  \\\n1  2018-01-03  52.860001  52.860001  52.060001  52.340000  51.014023  5074900   \n\n                       empresa industria   market_cap ticker  \n0  American Airlines Group Inc  Airlines  11712362496    AAL  \n1  American Airlines Group Inc  Airlines  11712362496    AAL  ",
      "text/html": "<div>\n<style scoped>\n    .dataframe tbody tr th:only-of-type {\n        vertical-align: middle;\n    }\n\n    .dataframe tbody tr th {\n        vertical-align: top;\n    }\n\n    .dataframe thead th {\n        text-align: right;\n    }\n</style>\n<table border=\"1\" class=\"dataframe\">\n  <thead>\n    <tr style=\"text-align: right;\">\n      <th></th>\n      <th>Date</th>\n      <th>Open</th>\n      <th>High</th>\n      <th>Low</th>\n      <th>Close</th>\n      <th>Adj Close</th>\n      <th>Volume</th>\n      <th>empresa</th>\n      <th>industria</th>\n      <th>market_cap</th>\n      <th>ticker</th>\n    </tr>\n  </thead>\n  <tbody>\n    <tr>\n      <th>0</th>\n      <td>2018-01-02</td>\n      <td>52.330002</td>\n      <td>53.099998</td>\n      <td>51.900002</td>\n      <td>52.990002</td>\n      <td>51.647568</td>\n      <td>4084700</td>\n      <td>American Airlines Group Inc</td>\n      <td>Airlines</td>\n      <td>11712362496</td>\n      <td>AAL</td>\n    </tr>\n    <tr>\n      <th>1</th>\n      <td>2018-01-03</td>\n      <td>52.860001</td>\n      <td>52.860001</td>\n      <td>52.060001</td>\n      <td>52.340000</td>\n      <td>51.014023</td>\n      <td>5074900</td>\n      <td>American Airlines Group Inc</td>\n      <td>Airlines</td>\n      <td>11712362496</td>\n      <td>AAL</td>\n    </tr>\n  </tbody>\n</table>\n</div>"
     },
     "execution_count": 45,
     "metadata": {},
     "output_type": "execute_result"
    }
   ],
   "source": [
    "stocks = pd.read_csv(\"datasets_yahoofinance/concatenado/empresas_grandes.csv\")\n",
    "stocks.head(2)"
   ],
   "metadata": {
    "collapsed": false,
    "pycharm": {
     "name": "#%%\n"
    }
   }
  },
  {
   "cell_type": "code",
   "execution_count": 46,
   "outputs": [],
   "source": [
    "stocks.rename(columns={'Date':'Fecha','Adj Close': 'Adj_Close'}, inplace=True)"
   ],
   "metadata": {
    "collapsed": false,
    "pycharm": {
     "name": "#%%\n"
    }
   }
  },
  {
   "cell_type": "code",
   "execution_count": 29,
   "outputs": [],
   "source": [
    "db_path = \"database/tp_final_db.db\"\n",
    "\n",
    "conn = sqlite3.connect(db_path)"
   ],
   "metadata": {
    "collapsed": false,
    "pycharm": {
     "name": "#%%\n"
    }
   }
  },
  {
   "cell_type": "code",
   "execution_count": 30,
   "outputs": [],
   "source": [
    "stocks.to_sql(name='stocks', con=conn, if_exists=\"replace\", index = False)\n",
    "\n",
    "concat_properati_ml.to_sql(name='concat_properati_ml', con=conn, if_exists=\"replace\", index = False)\n",
    "\n",
    "datos_properati.to_sql(name='properati', con=conn, if_exists=\"replace\", index = False)\n",
    "\n",
    "# Close the connection\n",
    "conn.close()"
   ],
   "metadata": {
    "collapsed": false,
    "pycharm": {
     "name": "#%%\n"
    }
   }
  },
  {
   "cell_type": "markdown",
   "source": [
    "# Enviando las tablas a BQ"
   ],
   "metadata": {
    "collapsed": false,
    "pycharm": {
     "name": "#%% md\n"
    }
   }
  },
  {
   "cell_type": "code",
   "execution_count": 33,
   "outputs": [
    {
     "data": {
      "text/plain": "<google.oauth2.service_account.Credentials at 0x289bb2b7730>"
     },
     "execution_count": 33,
     "metadata": {},
     "output_type": "execute_result"
    }
   ],
   "source": [
    "from google.oauth2 import service_account # para generar conexion con BigQuery\n",
    "#bq_cred = service_account.Credentials.from_service_account_file('./tokens/gcp_token2.json')\n",
    "bq_cred = service_account.Credentials.from_service_account_file('./tokens/gcp_token_tp_final.json')\n",
    "\n",
    "bq_cred"
   ],
   "metadata": {
    "collapsed": false,
    "pycharm": {
     "name": "#%%\n"
    }
   }
  },
  {
   "cell_type": "code",
   "execution_count": 37,
   "outputs": [],
   "source": [
    "import pandas_gbq # para interactuar con BQ\n",
    "\n",
    "datos_properati.to_gbq(destination_table= 'tp_final.properati', project_id= 'tp-final-big-data',\n",
    "                   if_exists= 'replace', credentials = bq_cred)"
   ],
   "metadata": {
    "collapsed": false,
    "pycharm": {
     "name": "#%%\n"
    }
   }
  },
  {
   "cell_type": "code",
   "execution_count": 43,
   "outputs": [
    {
     "ename": "TypeError",
     "evalue": "to_gbq() got an unexpected keyword argument 'reorder_columns'",
     "output_type": "error",
     "traceback": [
      "\u001B[1;31m---------------------------------------------------------------------------\u001B[0m",
      "\u001B[1;31mTypeError\u001B[0m                                 Traceback (most recent call last)",
      "Cell \u001B[1;32mIn[43], line 1\u001B[0m\n\u001B[1;32m----> 1\u001B[0m \u001B[43mconcat_properati_ml\u001B[49m\u001B[38;5;241;43m.\u001B[39;49m\u001B[43mto_gbq\u001B[49m\u001B[43m(\u001B[49m\u001B[43mdestination_table\u001B[49m\u001B[38;5;241;43m=\u001B[39;49m\u001B[43m \u001B[49m\u001B[38;5;124;43m'\u001B[39;49m\u001B[38;5;124;43mtp_final.concat_properati_ml\u001B[39;49m\u001B[38;5;124;43m'\u001B[39;49m\u001B[43m,\u001B[49m\u001B[43m \u001B[49m\u001B[43mproject_id\u001B[49m\u001B[38;5;241;43m=\u001B[39;49m\u001B[43m \u001B[49m\u001B[38;5;124;43m'\u001B[39;49m\u001B[38;5;124;43mtp-final-big-data\u001B[39;49m\u001B[38;5;124;43m'\u001B[39;49m\u001B[43m,\u001B[49m\n\u001B[0;32m      2\u001B[0m \u001B[43m                   \u001B[49m\u001B[43mif_exists\u001B[49m\u001B[38;5;241;43m=\u001B[39;49m\u001B[43m \u001B[49m\u001B[38;5;124;43m'\u001B[39;49m\u001B[38;5;124;43mreplace\u001B[39;49m\u001B[38;5;124;43m'\u001B[39;49m\u001B[43m,\u001B[49m\u001B[43m \u001B[49m\u001B[43mcredentials\u001B[49m\u001B[43m \u001B[49m\u001B[38;5;241;43m=\u001B[39;49m\u001B[43m \u001B[49m\u001B[43mbq_cred\u001B[49m\u001B[43m,\u001B[49m\u001B[43m \u001B[49m\u001B[43mreorder_columns\u001B[49m\u001B[43m \u001B[49m\u001B[38;5;241;43m=\u001B[39;49m\u001B[43m \u001B[49m\u001B[38;5;28;43;01mTrue\u001B[39;49;00m\u001B[43m)\u001B[49m\n",
      "\u001B[1;31mTypeError\u001B[0m: to_gbq() got an unexpected keyword argument 'reorder_columns'"
     ]
    }
   ],
   "source": [
    "concat_properati_ml.to_gbq(destination_table= 'tp_final.concat_properati_ml', project_id= 'tp-final-big-data',\n",
    "                   if_exists= 'replace', credentials = bq_cred)"
   ],
   "metadata": {
    "collapsed": false,
    "pycharm": {
     "name": "#%%\n"
    }
   }
  },
  {
   "cell_type": "code",
   "execution_count": 47,
   "outputs": [],
   "source": [
    "stocks.to_gbq(destination_table= 'tp_final.stocks', project_id= 'tp-final-big-data',\n",
    "                   if_exists= 'replace', credentials = bq_cred)"
   ],
   "metadata": {
    "collapsed": false,
    "pycharm": {
     "name": "#%%\n"
    }
   }
  },
  {
   "cell_type": "code",
   "execution_count": 41,
   "outputs": [
    {
     "data": {
      "text/plain": "      Fecha  Precio\n0   2015-01    2214\n1   2015-02    2258\n2   2015-03    2265\n3   2015-04    2299\n4   2015-05    2381\n..      ...     ...\n93  2022-10    2288\n94  2022-11    2289\n95  2022-12    2268\n96  2023-03    2295\n97  2023-02    2236\n\n[98 rows x 2 columns]",
      "text/html": "<div>\n<style scoped>\n    .dataframe tbody tr th:only-of-type {\n        vertical-align: middle;\n    }\n\n    .dataframe tbody tr th {\n        vertical-align: top;\n    }\n\n    .dataframe thead th {\n        text-align: right;\n    }\n</style>\n<table border=\"1\" class=\"dataframe\">\n  <thead>\n    <tr style=\"text-align: right;\">\n      <th></th>\n      <th>Fecha</th>\n      <th>Precio</th>\n    </tr>\n  </thead>\n  <tbody>\n    <tr>\n      <th>0</th>\n      <td>2015-01</td>\n      <td>2214</td>\n    </tr>\n    <tr>\n      <th>1</th>\n      <td>2015-02</td>\n      <td>2258</td>\n    </tr>\n    <tr>\n      <th>2</th>\n      <td>2015-03</td>\n      <td>2265</td>\n    </tr>\n    <tr>\n      <th>3</th>\n      <td>2015-04</td>\n      <td>2299</td>\n    </tr>\n    <tr>\n      <th>4</th>\n      <td>2015-05</td>\n      <td>2381</td>\n    </tr>\n    <tr>\n      <th>...</th>\n      <td>...</td>\n      <td>...</td>\n    </tr>\n    <tr>\n      <th>93</th>\n      <td>2022-10</td>\n      <td>2288</td>\n    </tr>\n    <tr>\n      <th>94</th>\n      <td>2022-11</td>\n      <td>2289</td>\n    </tr>\n    <tr>\n      <th>95</th>\n      <td>2022-12</td>\n      <td>2268</td>\n    </tr>\n    <tr>\n      <th>96</th>\n      <td>2023-03</td>\n      <td>2295</td>\n    </tr>\n    <tr>\n      <th>97</th>\n      <td>2023-02</td>\n      <td>2236</td>\n    </tr>\n  </tbody>\n</table>\n<p>98 rows × 2 columns</p>\n</div>"
     },
     "execution_count": 41,
     "metadata": {},
     "output_type": "execute_result"
    }
   ],
   "source": [
    "concat_properati_ml"
   ],
   "metadata": {
    "collapsed": false,
    "pycharm": {
     "name": "#%%\n"
    }
   }
  },
  {
   "cell_type": "code",
   "execution_count": null,
   "outputs": [],
   "source": [],
   "metadata": {
    "collapsed": false,
    "pycharm": {
     "name": "#%%\n"
    }
   }
  }
 ],
 "metadata": {
  "kernelspec": {
   "display_name": "Python 3",
   "language": "python",
   "name": "python3"
  },
  "language_info": {
   "codemirror_mode": {
    "name": "ipython",
    "version": 2
   },
   "file_extension": ".py",
   "mimetype": "text/x-python",
   "name": "python",
   "nbconvert_exporter": "python",
   "pygments_lexer": "ipython2",
   "version": "2.7.6"
  }
 },
 "nbformat": 4,
 "nbformat_minor": 0
}